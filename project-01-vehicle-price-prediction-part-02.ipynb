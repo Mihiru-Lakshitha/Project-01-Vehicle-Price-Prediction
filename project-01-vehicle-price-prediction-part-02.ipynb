{
 "cells": [
  {
   "cell_type": "code",
   "execution_count": 1,
   "id": "48b2f0a0",
   "metadata": {
    "_cell_guid": "b1076dfc-b9ad-4769-8c92-a6c4dae69d19",
    "_uuid": "8f2839f25d086af736a60e9eeb907d3b93b6e0e5",
    "execution": {
     "iopub.execute_input": "2022-06-06T19:03:05.515719Z",
     "iopub.status.busy": "2022-06-06T19:03:05.515112Z",
     "iopub.status.idle": "2022-06-06T19:03:06.598328Z",
     "shell.execute_reply": "2022-06-06T19:03:06.597410Z"
    },
    "papermill": {
     "duration": 1.104976,
     "end_time": "2022-06-06T19:03:06.600968",
     "exception": false,
     "start_time": "2022-06-06T19:03:05.495992",
     "status": "completed"
    },
    "tags": []
   },
   "outputs": [],
   "source": [
    "# Importnig Libraries\n",
    "import pandas as pd\n",
    "import numpy as np\n",
    "import matplotlib.pyplot as plt\n",
    "import seaborn as sns"
   ]
  },
  {
   "cell_type": "markdown",
   "id": "0ab8a718",
   "metadata": {
    "papermill": {
     "duration": 0.008395,
     "end_time": "2022-06-06T19:03:06.618891",
     "exception": false,
     "start_time": "2022-06-06T19:03:06.610496",
     "status": "completed"
    },
    "tags": []
   },
   "source": [
    "# Faeture Enginering (Round 02)"
   ]
  },
  {
   "cell_type": "code",
   "execution_count": 2,
   "id": "280c8258",
   "metadata": {
    "execution": {
     "iopub.execute_input": "2022-06-06T19:03:06.637067Z",
     "iopub.status.busy": "2022-06-06T19:03:06.636727Z",
     "iopub.status.idle": "2022-06-06T19:03:06.884373Z",
     "shell.execute_reply": "2022-06-06T19:03:06.883153Z"
    },
    "papermill": {
     "duration": 0.259464,
     "end_time": "2022-06-06T19:03:06.886764",
     "exception": false,
     "start_time": "2022-06-06T19:03:06.627300",
     "status": "completed"
    },
    "tags": []
   },
   "outputs": [],
   "source": [
    "# Load the Dataset\n",
    "x = pd.read_csv('../input/cleaned-data/x_cleaned.csv')\n",
    "y = pd.read_csv('../input/cleaned-data/y_cleaned.csv')"
   ]
  },
  {
   "cell_type": "code",
   "execution_count": 3,
   "id": "2699d08e",
   "metadata": {
    "execution": {
     "iopub.execute_input": "2022-06-06T19:03:06.906753Z",
     "iopub.status.busy": "2022-06-06T19:03:06.905707Z",
     "iopub.status.idle": "2022-06-06T19:03:06.942093Z",
     "shell.execute_reply": "2022-06-06T19:03:06.940971Z"
    },
    "papermill": {
     "duration": 0.049468,
     "end_time": "2022-06-06T19:03:06.945429",
     "exception": false,
     "start_time": "2022-06-06T19:03:06.895961",
     "status": "completed"
    },
    "tags": []
   },
   "outputs": [
    {
     "data": {
      "text/html": [
       "<div>\n",
       "<style scoped>\n",
       "    .dataframe tbody tr th:only-of-type {\n",
       "        vertical-align: middle;\n",
       "    }\n",
       "\n",
       "    .dataframe tbody tr th {\n",
       "        vertical-align: top;\n",
       "    }\n",
       "\n",
       "    .dataframe thead th {\n",
       "        text-align: right;\n",
       "    }\n",
       "</style>\n",
       "<table border=\"1\" class=\"dataframe\">\n",
       "  <thead>\n",
       "    <tr style=\"text-align: right;\">\n",
       "      <th></th>\n",
       "      <th>Unnamed: 0</th>\n",
       "      <th>year</th>\n",
       "      <th>km_driven</th>\n",
       "      <th>mileage</th>\n",
       "      <th>engine</th>\n",
       "      <th>max_power</th>\n",
       "      <th>seats</th>\n",
       "      <th>fuel_CNG</th>\n",
       "      <th>fuel_Diesel</th>\n",
       "      <th>fuel_LPG</th>\n",
       "      <th>fuel_Petrol</th>\n",
       "      <th>seller_type_Dealer</th>\n",
       "      <th>seller_type_Individual</th>\n",
       "      <th>seller_type_Trustmark Dealer</th>\n",
       "      <th>transmission_Automatic</th>\n",
       "      <th>transmission_Manual</th>\n",
       "      <th>owner_First Owner</th>\n",
       "      <th>owner_Fourth &amp; Above Owner</th>\n",
       "      <th>owner_Second Owner</th>\n",
       "      <th>owner_Third Owner</th>\n",
       "    </tr>\n",
       "  </thead>\n",
       "  <tbody>\n",
       "    <tr>\n",
       "      <th>0</th>\n",
       "      <td>0</td>\n",
       "      <td>2014</td>\n",
       "      <td>145500</td>\n",
       "      <td>23.40</td>\n",
       "      <td>1248</td>\n",
       "      <td>74.00</td>\n",
       "      <td>5.0</td>\n",
       "      <td>0</td>\n",
       "      <td>1</td>\n",
       "      <td>0</td>\n",
       "      <td>0</td>\n",
       "      <td>0</td>\n",
       "      <td>1</td>\n",
       "      <td>0</td>\n",
       "      <td>0</td>\n",
       "      <td>1</td>\n",
       "      <td>1</td>\n",
       "      <td>0</td>\n",
       "      <td>0</td>\n",
       "      <td>0</td>\n",
       "    </tr>\n",
       "    <tr>\n",
       "      <th>1</th>\n",
       "      <td>1</td>\n",
       "      <td>2014</td>\n",
       "      <td>120000</td>\n",
       "      <td>21.14</td>\n",
       "      <td>1498</td>\n",
       "      <td>103.52</td>\n",
       "      <td>5.0</td>\n",
       "      <td>0</td>\n",
       "      <td>1</td>\n",
       "      <td>0</td>\n",
       "      <td>0</td>\n",
       "      <td>0</td>\n",
       "      <td>1</td>\n",
       "      <td>0</td>\n",
       "      <td>0</td>\n",
       "      <td>1</td>\n",
       "      <td>0</td>\n",
       "      <td>0</td>\n",
       "      <td>1</td>\n",
       "      <td>0</td>\n",
       "    </tr>\n",
       "    <tr>\n",
       "      <th>2</th>\n",
       "      <td>2</td>\n",
       "      <td>2006</td>\n",
       "      <td>140000</td>\n",
       "      <td>17.70</td>\n",
       "      <td>1497</td>\n",
       "      <td>78.00</td>\n",
       "      <td>5.0</td>\n",
       "      <td>0</td>\n",
       "      <td>0</td>\n",
       "      <td>0</td>\n",
       "      <td>1</td>\n",
       "      <td>0</td>\n",
       "      <td>1</td>\n",
       "      <td>0</td>\n",
       "      <td>0</td>\n",
       "      <td>1</td>\n",
       "      <td>0</td>\n",
       "      <td>0</td>\n",
       "      <td>0</td>\n",
       "      <td>1</td>\n",
       "    </tr>\n",
       "    <tr>\n",
       "      <th>3</th>\n",
       "      <td>3</td>\n",
       "      <td>2010</td>\n",
       "      <td>127000</td>\n",
       "      <td>23.00</td>\n",
       "      <td>1396</td>\n",
       "      <td>90.00</td>\n",
       "      <td>5.0</td>\n",
       "      <td>0</td>\n",
       "      <td>1</td>\n",
       "      <td>0</td>\n",
       "      <td>0</td>\n",
       "      <td>0</td>\n",
       "      <td>1</td>\n",
       "      <td>0</td>\n",
       "      <td>0</td>\n",
       "      <td>1</td>\n",
       "      <td>1</td>\n",
       "      <td>0</td>\n",
       "      <td>0</td>\n",
       "      <td>0</td>\n",
       "    </tr>\n",
       "    <tr>\n",
       "      <th>4</th>\n",
       "      <td>4</td>\n",
       "      <td>2007</td>\n",
       "      <td>120000</td>\n",
       "      <td>16.10</td>\n",
       "      <td>1298</td>\n",
       "      <td>88.20</td>\n",
       "      <td>5.0</td>\n",
       "      <td>0</td>\n",
       "      <td>0</td>\n",
       "      <td>0</td>\n",
       "      <td>1</td>\n",
       "      <td>0</td>\n",
       "      <td>1</td>\n",
       "      <td>0</td>\n",
       "      <td>0</td>\n",
       "      <td>1</td>\n",
       "      <td>1</td>\n",
       "      <td>0</td>\n",
       "      <td>0</td>\n",
       "      <td>0</td>\n",
       "    </tr>\n",
       "    <tr>\n",
       "      <th>...</th>\n",
       "      <td>...</td>\n",
       "      <td>...</td>\n",
       "      <td>...</td>\n",
       "      <td>...</td>\n",
       "      <td>...</td>\n",
       "      <td>...</td>\n",
       "      <td>...</td>\n",
       "      <td>...</td>\n",
       "      <td>...</td>\n",
       "      <td>...</td>\n",
       "      <td>...</td>\n",
       "      <td>...</td>\n",
       "      <td>...</td>\n",
       "      <td>...</td>\n",
       "      <td>...</td>\n",
       "      <td>...</td>\n",
       "      <td>...</td>\n",
       "      <td>...</td>\n",
       "      <td>...</td>\n",
       "      <td>...</td>\n",
       "    </tr>\n",
       "    <tr>\n",
       "      <th>92899</th>\n",
       "      <td>92899</td>\n",
       "      <td>2011</td>\n",
       "      <td>80000</td>\n",
       "      <td>10.93</td>\n",
       "      <td>2497</td>\n",
       "      <td>204.00</td>\n",
       "      <td>5.0</td>\n",
       "      <td>0</td>\n",
       "      <td>0</td>\n",
       "      <td>0</td>\n",
       "      <td>1</td>\n",
       "      <td>0</td>\n",
       "      <td>1</td>\n",
       "      <td>0</td>\n",
       "      <td>1</td>\n",
       "      <td>0</td>\n",
       "      <td>0</td>\n",
       "      <td>0</td>\n",
       "      <td>1</td>\n",
       "      <td>0</td>\n",
       "    </tr>\n",
       "    <tr>\n",
       "      <th>92900</th>\n",
       "      <td>92900</td>\n",
       "      <td>2011</td>\n",
       "      <td>80000</td>\n",
       "      <td>10.93</td>\n",
       "      <td>2497</td>\n",
       "      <td>204.00</td>\n",
       "      <td>5.0</td>\n",
       "      <td>0</td>\n",
       "      <td>0</td>\n",
       "      <td>0</td>\n",
       "      <td>1</td>\n",
       "      <td>0</td>\n",
       "      <td>1</td>\n",
       "      <td>0</td>\n",
       "      <td>1</td>\n",
       "      <td>0</td>\n",
       "      <td>0</td>\n",
       "      <td>0</td>\n",
       "      <td>1</td>\n",
       "      <td>0</td>\n",
       "    </tr>\n",
       "    <tr>\n",
       "      <th>92901</th>\n",
       "      <td>92901</td>\n",
       "      <td>2011</td>\n",
       "      <td>80000</td>\n",
       "      <td>10.93</td>\n",
       "      <td>2497</td>\n",
       "      <td>204.00</td>\n",
       "      <td>5.0</td>\n",
       "      <td>0</td>\n",
       "      <td>0</td>\n",
       "      <td>0</td>\n",
       "      <td>1</td>\n",
       "      <td>0</td>\n",
       "      <td>1</td>\n",
       "      <td>0</td>\n",
       "      <td>1</td>\n",
       "      <td>0</td>\n",
       "      <td>0</td>\n",
       "      <td>0</td>\n",
       "      <td>1</td>\n",
       "      <td>0</td>\n",
       "    </tr>\n",
       "    <tr>\n",
       "      <th>92902</th>\n",
       "      <td>92902</td>\n",
       "      <td>2011</td>\n",
       "      <td>80000</td>\n",
       "      <td>10.93</td>\n",
       "      <td>2497</td>\n",
       "      <td>204.00</td>\n",
       "      <td>5.0</td>\n",
       "      <td>0</td>\n",
       "      <td>0</td>\n",
       "      <td>0</td>\n",
       "      <td>1</td>\n",
       "      <td>0</td>\n",
       "      <td>1</td>\n",
       "      <td>0</td>\n",
       "      <td>1</td>\n",
       "      <td>0</td>\n",
       "      <td>0</td>\n",
       "      <td>0</td>\n",
       "      <td>1</td>\n",
       "      <td>0</td>\n",
       "    </tr>\n",
       "    <tr>\n",
       "      <th>92903</th>\n",
       "      <td>92903</td>\n",
       "      <td>2011</td>\n",
       "      <td>80000</td>\n",
       "      <td>10.93</td>\n",
       "      <td>2497</td>\n",
       "      <td>204.00</td>\n",
       "      <td>5.0</td>\n",
       "      <td>0</td>\n",
       "      <td>0</td>\n",
       "      <td>0</td>\n",
       "      <td>1</td>\n",
       "      <td>0</td>\n",
       "      <td>1</td>\n",
       "      <td>0</td>\n",
       "      <td>1</td>\n",
       "      <td>0</td>\n",
       "      <td>0</td>\n",
       "      <td>0</td>\n",
       "      <td>1</td>\n",
       "      <td>0</td>\n",
       "    </tr>\n",
       "  </tbody>\n",
       "</table>\n",
       "<p>92904 rows × 20 columns</p>\n",
       "</div>"
      ],
      "text/plain": [
       "       Unnamed: 0  year  km_driven  mileage  engine  max_power  seats  \\\n",
       "0               0  2014     145500    23.40    1248      74.00    5.0   \n",
       "1               1  2014     120000    21.14    1498     103.52    5.0   \n",
       "2               2  2006     140000    17.70    1497      78.00    5.0   \n",
       "3               3  2010     127000    23.00    1396      90.00    5.0   \n",
       "4               4  2007     120000    16.10    1298      88.20    5.0   \n",
       "...           ...   ...        ...      ...     ...        ...    ...   \n",
       "92899       92899  2011      80000    10.93    2497     204.00    5.0   \n",
       "92900       92900  2011      80000    10.93    2497     204.00    5.0   \n",
       "92901       92901  2011      80000    10.93    2497     204.00    5.0   \n",
       "92902       92902  2011      80000    10.93    2497     204.00    5.0   \n",
       "92903       92903  2011      80000    10.93    2497     204.00    5.0   \n",
       "\n",
       "       fuel_CNG  fuel_Diesel  fuel_LPG  fuel_Petrol  seller_type_Dealer  \\\n",
       "0             0            1         0            0                   0   \n",
       "1             0            1         0            0                   0   \n",
       "2             0            0         0            1                   0   \n",
       "3             0            1         0            0                   0   \n",
       "4             0            0         0            1                   0   \n",
       "...         ...          ...       ...          ...                 ...   \n",
       "92899         0            0         0            1                   0   \n",
       "92900         0            0         0            1                   0   \n",
       "92901         0            0         0            1                   0   \n",
       "92902         0            0         0            1                   0   \n",
       "92903         0            0         0            1                   0   \n",
       "\n",
       "       seller_type_Individual  seller_type_Trustmark Dealer  \\\n",
       "0                           1                             0   \n",
       "1                           1                             0   \n",
       "2                           1                             0   \n",
       "3                           1                             0   \n",
       "4                           1                             0   \n",
       "...                       ...                           ...   \n",
       "92899                       1                             0   \n",
       "92900                       1                             0   \n",
       "92901                       1                             0   \n",
       "92902                       1                             0   \n",
       "92903                       1                             0   \n",
       "\n",
       "       transmission_Automatic  transmission_Manual  owner_First Owner  \\\n",
       "0                           0                    1                  1   \n",
       "1                           0                    1                  0   \n",
       "2                           0                    1                  0   \n",
       "3                           0                    1                  1   \n",
       "4                           0                    1                  1   \n",
       "...                       ...                  ...                ...   \n",
       "92899                       1                    0                  0   \n",
       "92900                       1                    0                  0   \n",
       "92901                       1                    0                  0   \n",
       "92902                       1                    0                  0   \n",
       "92903                       1                    0                  0   \n",
       "\n",
       "       owner_Fourth & Above Owner  owner_Second Owner  owner_Third Owner  \n",
       "0                               0                   0                  0  \n",
       "1                               0                   1                  0  \n",
       "2                               0                   0                  1  \n",
       "3                               0                   0                  0  \n",
       "4                               0                   0                  0  \n",
       "...                           ...                 ...                ...  \n",
       "92899                           0                   1                  0  \n",
       "92900                           0                   1                  0  \n",
       "92901                           0                   1                  0  \n",
       "92902                           0                   1                  0  \n",
       "92903                           0                   1                  0  \n",
       "\n",
       "[92904 rows x 20 columns]"
      ]
     },
     "execution_count": 3,
     "metadata": {},
     "output_type": "execute_result"
    }
   ],
   "source": [
    "x"
   ]
  },
  {
   "cell_type": "code",
   "execution_count": 4,
   "id": "19ca45ca",
   "metadata": {
    "execution": {
     "iopub.execute_input": "2022-06-06T19:03:06.965507Z",
     "iopub.status.busy": "2022-06-06T19:03:06.965213Z",
     "iopub.status.idle": "2022-06-06T19:03:06.980572Z",
     "shell.execute_reply": "2022-06-06T19:03:06.979392Z"
    },
    "papermill": {
     "duration": 0.027819,
     "end_time": "2022-06-06T19:03:06.983072",
     "exception": false,
     "start_time": "2022-06-06T19:03:06.955253",
     "status": "completed"
    },
    "tags": []
   },
   "outputs": [],
   "source": [
    "x.drop(\"Unnamed: 0\", axis=1 , inplace= True)"
   ]
  },
  {
   "cell_type": "code",
   "execution_count": 5,
   "id": "8b489ad9",
   "metadata": {
    "execution": {
     "iopub.execute_input": "2022-06-06T19:03:07.002322Z",
     "iopub.status.busy": "2022-06-06T19:03:07.002002Z",
     "iopub.status.idle": "2022-06-06T19:03:07.022699Z",
     "shell.execute_reply": "2022-06-06T19:03:07.021627Z"
    },
    "papermill": {
     "duration": 0.032943,
     "end_time": "2022-06-06T19:03:07.024977",
     "exception": false,
     "start_time": "2022-06-06T19:03:06.992034",
     "status": "completed"
    },
    "tags": []
   },
   "outputs": [
    {
     "data": {
      "text/html": [
       "<div>\n",
       "<style scoped>\n",
       "    .dataframe tbody tr th:only-of-type {\n",
       "        vertical-align: middle;\n",
       "    }\n",
       "\n",
       "    .dataframe tbody tr th {\n",
       "        vertical-align: top;\n",
       "    }\n",
       "\n",
       "    .dataframe thead th {\n",
       "        text-align: right;\n",
       "    }\n",
       "</style>\n",
       "<table border=\"1\" class=\"dataframe\">\n",
       "  <thead>\n",
       "    <tr style=\"text-align: right;\">\n",
       "      <th></th>\n",
       "      <th>year</th>\n",
       "      <th>km_driven</th>\n",
       "      <th>mileage</th>\n",
       "      <th>engine</th>\n",
       "      <th>max_power</th>\n",
       "      <th>seats</th>\n",
       "      <th>fuel_CNG</th>\n",
       "      <th>fuel_Diesel</th>\n",
       "      <th>fuel_LPG</th>\n",
       "      <th>fuel_Petrol</th>\n",
       "      <th>seller_type_Dealer</th>\n",
       "      <th>seller_type_Individual</th>\n",
       "      <th>seller_type_Trustmark Dealer</th>\n",
       "      <th>transmission_Automatic</th>\n",
       "      <th>transmission_Manual</th>\n",
       "      <th>owner_First Owner</th>\n",
       "      <th>owner_Fourth &amp; Above Owner</th>\n",
       "      <th>owner_Second Owner</th>\n",
       "      <th>owner_Third Owner</th>\n",
       "    </tr>\n",
       "  </thead>\n",
       "  <tbody>\n",
       "    <tr>\n",
       "      <th>0</th>\n",
       "      <td>2014</td>\n",
       "      <td>145500</td>\n",
       "      <td>23.40</td>\n",
       "      <td>1248</td>\n",
       "      <td>74.00</td>\n",
       "      <td>5.0</td>\n",
       "      <td>0</td>\n",
       "      <td>1</td>\n",
       "      <td>0</td>\n",
       "      <td>0</td>\n",
       "      <td>0</td>\n",
       "      <td>1</td>\n",
       "      <td>0</td>\n",
       "      <td>0</td>\n",
       "      <td>1</td>\n",
       "      <td>1</td>\n",
       "      <td>0</td>\n",
       "      <td>0</td>\n",
       "      <td>0</td>\n",
       "    </tr>\n",
       "    <tr>\n",
       "      <th>1</th>\n",
       "      <td>2014</td>\n",
       "      <td>120000</td>\n",
       "      <td>21.14</td>\n",
       "      <td>1498</td>\n",
       "      <td>103.52</td>\n",
       "      <td>5.0</td>\n",
       "      <td>0</td>\n",
       "      <td>1</td>\n",
       "      <td>0</td>\n",
       "      <td>0</td>\n",
       "      <td>0</td>\n",
       "      <td>1</td>\n",
       "      <td>0</td>\n",
       "      <td>0</td>\n",
       "      <td>1</td>\n",
       "      <td>0</td>\n",
       "      <td>0</td>\n",
       "      <td>1</td>\n",
       "      <td>0</td>\n",
       "    </tr>\n",
       "    <tr>\n",
       "      <th>2</th>\n",
       "      <td>2006</td>\n",
       "      <td>140000</td>\n",
       "      <td>17.70</td>\n",
       "      <td>1497</td>\n",
       "      <td>78.00</td>\n",
       "      <td>5.0</td>\n",
       "      <td>0</td>\n",
       "      <td>0</td>\n",
       "      <td>0</td>\n",
       "      <td>1</td>\n",
       "      <td>0</td>\n",
       "      <td>1</td>\n",
       "      <td>0</td>\n",
       "      <td>0</td>\n",
       "      <td>1</td>\n",
       "      <td>0</td>\n",
       "      <td>0</td>\n",
       "      <td>0</td>\n",
       "      <td>1</td>\n",
       "    </tr>\n",
       "    <tr>\n",
       "      <th>3</th>\n",
       "      <td>2010</td>\n",
       "      <td>127000</td>\n",
       "      <td>23.00</td>\n",
       "      <td>1396</td>\n",
       "      <td>90.00</td>\n",
       "      <td>5.0</td>\n",
       "      <td>0</td>\n",
       "      <td>1</td>\n",
       "      <td>0</td>\n",
       "      <td>0</td>\n",
       "      <td>0</td>\n",
       "      <td>1</td>\n",
       "      <td>0</td>\n",
       "      <td>0</td>\n",
       "      <td>1</td>\n",
       "      <td>1</td>\n",
       "      <td>0</td>\n",
       "      <td>0</td>\n",
       "      <td>0</td>\n",
       "    </tr>\n",
       "    <tr>\n",
       "      <th>4</th>\n",
       "      <td>2007</td>\n",
       "      <td>120000</td>\n",
       "      <td>16.10</td>\n",
       "      <td>1298</td>\n",
       "      <td>88.20</td>\n",
       "      <td>5.0</td>\n",
       "      <td>0</td>\n",
       "      <td>0</td>\n",
       "      <td>0</td>\n",
       "      <td>1</td>\n",
       "      <td>0</td>\n",
       "      <td>1</td>\n",
       "      <td>0</td>\n",
       "      <td>0</td>\n",
       "      <td>1</td>\n",
       "      <td>1</td>\n",
       "      <td>0</td>\n",
       "      <td>0</td>\n",
       "      <td>0</td>\n",
       "    </tr>\n",
       "  </tbody>\n",
       "</table>\n",
       "</div>"
      ],
      "text/plain": [
       "   year  km_driven  mileage  engine  max_power  seats  fuel_CNG  fuel_Diesel  \\\n",
       "0  2014     145500    23.40    1248      74.00    5.0         0            1   \n",
       "1  2014     120000    21.14    1498     103.52    5.0         0            1   \n",
       "2  2006     140000    17.70    1497      78.00    5.0         0            0   \n",
       "3  2010     127000    23.00    1396      90.00    5.0         0            1   \n",
       "4  2007     120000    16.10    1298      88.20    5.0         0            0   \n",
       "\n",
       "   fuel_LPG  fuel_Petrol  seller_type_Dealer  seller_type_Individual  \\\n",
       "0         0            0                   0                       1   \n",
       "1         0            0                   0                       1   \n",
       "2         0            1                   0                       1   \n",
       "3         0            0                   0                       1   \n",
       "4         0            1                   0                       1   \n",
       "\n",
       "   seller_type_Trustmark Dealer  transmission_Automatic  transmission_Manual  \\\n",
       "0                             0                       0                    1   \n",
       "1                             0                       0                    1   \n",
       "2                             0                       0                    1   \n",
       "3                             0                       0                    1   \n",
       "4                             0                       0                    1   \n",
       "\n",
       "   owner_First Owner  owner_Fourth & Above Owner  owner_Second Owner  \\\n",
       "0                  1                           0                   0   \n",
       "1                  0                           0                   1   \n",
       "2                  0                           0                   0   \n",
       "3                  1                           0                   0   \n",
       "4                  1                           0                   0   \n",
       "\n",
       "   owner_Third Owner  \n",
       "0                  0  \n",
       "1                  0  \n",
       "2                  1  \n",
       "3                  0  \n",
       "4                  0  "
      ]
     },
     "execution_count": 5,
     "metadata": {},
     "output_type": "execute_result"
    }
   ],
   "source": [
    "x.head()"
   ]
  },
  {
   "cell_type": "code",
   "execution_count": 6,
   "id": "4c4b4b73",
   "metadata": {
    "execution": {
     "iopub.execute_input": "2022-06-06T19:03:07.045717Z",
     "iopub.status.busy": "2022-06-06T19:03:07.044849Z",
     "iopub.status.idle": "2022-06-06T19:03:07.050513Z",
     "shell.execute_reply": "2022-06-06T19:03:07.049605Z"
    },
    "papermill": {
     "duration": 0.017782,
     "end_time": "2022-06-06T19:03:07.052504",
     "exception": false,
     "start_time": "2022-06-06T19:03:07.034722",
     "status": "completed"
    },
    "tags": []
   },
   "outputs": [],
   "source": [
    "y.drop(\"Unnamed: 0\", axis=1 , inplace= True)"
   ]
  },
  {
   "cell_type": "code",
   "execution_count": 7,
   "id": "85c87690",
   "metadata": {
    "execution": {
     "iopub.execute_input": "2022-06-06T19:03:07.072670Z",
     "iopub.status.busy": "2022-06-06T19:03:07.072315Z",
     "iopub.status.idle": "2022-06-06T19:03:07.081180Z",
     "shell.execute_reply": "2022-06-06T19:03:07.080225Z"
    },
    "papermill": {
     "duration": 0.020873,
     "end_time": "2022-06-06T19:03:07.083153",
     "exception": false,
     "start_time": "2022-06-06T19:03:07.062280",
     "status": "completed"
    },
    "tags": []
   },
   "outputs": [
    {
     "data": {
      "text/html": [
       "<div>\n",
       "<style scoped>\n",
       "    .dataframe tbody tr th:only-of-type {\n",
       "        vertical-align: middle;\n",
       "    }\n",
       "\n",
       "    .dataframe tbody tr th {\n",
       "        vertical-align: top;\n",
       "    }\n",
       "\n",
       "    .dataframe thead th {\n",
       "        text-align: right;\n",
       "    }\n",
       "</style>\n",
       "<table border=\"1\" class=\"dataframe\">\n",
       "  <thead>\n",
       "    <tr style=\"text-align: right;\">\n",
       "      <th></th>\n",
       "      <th>selling_price</th>\n",
       "    </tr>\n",
       "  </thead>\n",
       "  <tbody>\n",
       "    <tr>\n",
       "      <th>0</th>\n",
       "      <td>450000</td>\n",
       "    </tr>\n",
       "    <tr>\n",
       "      <th>1</th>\n",
       "      <td>370000</td>\n",
       "    </tr>\n",
       "    <tr>\n",
       "      <th>2</th>\n",
       "      <td>158000</td>\n",
       "    </tr>\n",
       "    <tr>\n",
       "      <th>3</th>\n",
       "      <td>225000</td>\n",
       "    </tr>\n",
       "    <tr>\n",
       "      <th>4</th>\n",
       "      <td>130000</td>\n",
       "    </tr>\n",
       "  </tbody>\n",
       "</table>\n",
       "</div>"
      ],
      "text/plain": [
       "   selling_price\n",
       "0         450000\n",
       "1         370000\n",
       "2         158000\n",
       "3         225000\n",
       "4         130000"
      ]
     },
     "execution_count": 7,
     "metadata": {},
     "output_type": "execute_result"
    }
   ],
   "source": [
    "y.head()"
   ]
  },
  {
   "cell_type": "markdown",
   "id": "018ad75d",
   "metadata": {
    "papermill": {
     "duration": 0.009228,
     "end_time": "2022-06-06T19:03:07.101518",
     "exception": false,
     "start_time": "2022-06-06T19:03:07.092290",
     "status": "completed"
    },
    "tags": []
   },
   "source": [
    "### Split the data into traning and testing sets"
   ]
  },
  {
   "cell_type": "code",
   "execution_count": 8,
   "id": "23657e08",
   "metadata": {
    "execution": {
     "iopub.execute_input": "2022-06-06T19:03:07.121576Z",
     "iopub.status.busy": "2022-06-06T19:03:07.121234Z",
     "iopub.status.idle": "2022-06-06T19:03:07.343514Z",
     "shell.execute_reply": "2022-06-06T19:03:07.342457Z"
    },
    "papermill": {
     "duration": 0.235048,
     "end_time": "2022-06-06T19:03:07.345999",
     "exception": false,
     "start_time": "2022-06-06T19:03:07.110951",
     "status": "completed"
    },
    "tags": []
   },
   "outputs": [],
   "source": [
    "from sklearn.model_selection import train_test_split\n",
    "x_train, x_test, y_train, y_test = train_test_split(x, y, test_size=0.30)"
   ]
  },
  {
   "cell_type": "markdown",
   "id": "f39cf339",
   "metadata": {
    "papermill": {
     "duration": 0.009809,
     "end_time": "2022-06-06T19:03:07.366929",
     "exception": false,
     "start_time": "2022-06-06T19:03:07.357120",
     "status": "completed"
    },
    "tags": []
   },
   "source": [
    "### Scale down Dataset Using Standard scaler"
   ]
  },
  {
   "cell_type": "code",
   "execution_count": 9,
   "id": "103620a9",
   "metadata": {
    "execution": {
     "iopub.execute_input": "2022-06-06T19:03:07.388813Z",
     "iopub.status.busy": "2022-06-06T19:03:07.387909Z",
     "iopub.status.idle": "2022-06-06T19:03:07.422951Z",
     "shell.execute_reply": "2022-06-06T19:03:07.422028Z"
    },
    "papermill": {
     "duration": 0.048486,
     "end_time": "2022-06-06T19:03:07.425344",
     "exception": false,
     "start_time": "2022-06-06T19:03:07.376858",
     "status": "completed"
    },
    "tags": []
   },
   "outputs": [],
   "source": [
    "from sklearn.preprocessing import StandardScaler\n",
    "# define standard scaler\n",
    "scaler = StandardScaler()\n",
    "  \n",
    "# transform data\n",
    "x_train = scaler.fit_transform(x_train)\n",
    "x_test = scaler.fit_transform(x_test)"
   ]
  },
  {
   "cell_type": "markdown",
   "id": "abbd7b94",
   "metadata": {
    "papermill": {
     "duration": 0.010653,
     "end_time": "2022-06-06T19:03:07.448620",
     "exception": false,
     "start_time": "2022-06-06T19:03:07.437967",
     "status": "completed"
    },
    "tags": []
   },
   "source": [
    "# Building Machine Learning Models"
   ]
  },
  {
   "cell_type": "code",
   "execution_count": 10,
   "id": "05f53ca3",
   "metadata": {
    "execution": {
     "iopub.execute_input": "2022-06-06T19:03:07.469841Z",
     "iopub.status.busy": "2022-06-06T19:03:07.469467Z",
     "iopub.status.idle": "2022-06-06T19:03:17.315527Z",
     "shell.execute_reply": "2022-06-06T19:03:17.314509Z"
    },
    "papermill": {
     "duration": 9.859681,
     "end_time": "2022-06-06T19:03:17.317933",
     "exception": false,
     "start_time": "2022-06-06T19:03:07.458252",
     "status": "completed"
    },
    "tags": []
   },
   "outputs": [
    {
     "data": {
      "text/plain": [
       "RandomForestRegressor()"
      ]
     },
     "execution_count": 10,
     "metadata": {},
     "output_type": "execute_result"
    }
   ],
   "source": [
    "#Random forest\n",
    "from sklearn.ensemble import RandomForestRegressor\n",
    "rf = RandomForestRegressor()\n",
    "rf.fit(x_train, y_train.values.ravel())"
   ]
  },
  {
   "cell_type": "code",
   "execution_count": 11,
   "id": "e070fffd",
   "metadata": {
    "execution": {
     "iopub.execute_input": "2022-06-06T19:03:17.339751Z",
     "iopub.status.busy": "2022-06-06T19:03:17.339387Z",
     "iopub.status.idle": "2022-06-06T19:03:17.453089Z",
     "shell.execute_reply": "2022-06-06T19:03:17.451976Z"
    },
    "papermill": {
     "duration": 0.128173,
     "end_time": "2022-06-06T19:03:17.456275",
     "exception": false,
     "start_time": "2022-06-06T19:03:17.328102",
     "status": "completed"
    },
    "tags": []
   },
   "outputs": [
    {
     "data": {
      "text/plain": [
       "GammaRegressor()"
      ]
     },
     "execution_count": 11,
     "metadata": {},
     "output_type": "execute_result"
    }
   ],
   "source": [
    "#Gamma\n",
    "from sklearn.linear_model import GammaRegressor\n",
    "gm = GammaRegressor()\n",
    "gm.fit(x_train, y_train.values.ravel())"
   ]
  },
  {
   "cell_type": "code",
   "execution_count": 12,
   "id": "898fe6b1",
   "metadata": {
    "execution": {
     "iopub.execute_input": "2022-06-06T19:03:17.497831Z",
     "iopub.status.busy": "2022-06-06T19:03:17.497245Z",
     "iopub.status.idle": "2022-06-06T19:03:22.110142Z",
     "shell.execute_reply": "2022-06-06T19:03:22.109073Z"
    },
    "papermill": {
     "duration": 4.636141,
     "end_time": "2022-06-06T19:03:22.112348",
     "exception": false,
     "start_time": "2022-06-06T19:03:17.476207",
     "status": "completed"
    },
    "tags": []
   },
   "outputs": [
    {
     "data": {
      "text/plain": [
       "GradientBoostingRegressor()"
      ]
     },
     "execution_count": 12,
     "metadata": {},
     "output_type": "execute_result"
    }
   ],
   "source": [
    "#GB Boot\n",
    "from sklearn.ensemble import GradientBoostingRegressor\n",
    "gb = GradientBoostingRegressor()\n",
    "gb.fit(x_train, y_train.values.ravel())"
   ]
  },
  {
   "cell_type": "code",
   "execution_count": 13,
   "id": "02d0719f",
   "metadata": {
    "execution": {
     "iopub.execute_input": "2022-06-06T19:03:22.134931Z",
     "iopub.status.busy": "2022-06-06T19:03:22.134407Z",
     "iopub.status.idle": "2022-06-06T19:03:22.192521Z",
     "shell.execute_reply": "2022-06-06T19:03:22.191246Z"
    },
    "papermill": {
     "duration": 0.072898,
     "end_time": "2022-06-06T19:03:22.195633",
     "exception": false,
     "start_time": "2022-06-06T19:03:22.122735",
     "status": "completed"
    },
    "tags": []
   },
   "outputs": [
    {
     "data": {
      "text/plain": [
       "LinearRegression()"
      ]
     },
     "execution_count": 13,
     "metadata": {},
     "output_type": "execute_result"
    }
   ],
   "source": [
    "#Liner\n",
    "from sklearn.linear_model import LinearRegression\n",
    "ln = LinearRegression()\n",
    "ln.fit(x_train, y_train)"
   ]
  },
  {
   "cell_type": "markdown",
   "id": "15e8402c",
   "metadata": {
    "papermill": {
     "duration": 0.019661,
     "end_time": "2022-06-06T19:03:22.236207",
     "exception": false,
     "start_time": "2022-06-06T19:03:22.216546",
     "status": "completed"
    },
    "tags": []
   },
   "source": [
    "# Evaluvating the models"
   ]
  },
  {
   "cell_type": "code",
   "execution_count": 14,
   "id": "560483ee",
   "metadata": {
    "execution": {
     "iopub.execute_input": "2022-06-06T19:03:22.277714Z",
     "iopub.status.busy": "2022-06-06T19:03:22.277140Z",
     "iopub.status.idle": "2022-06-06T19:03:22.282560Z",
     "shell.execute_reply": "2022-06-06T19:03:22.281615Z"
    },
    "papermill": {
     "duration": 0.029584,
     "end_time": "2022-06-06T19:03:22.285906",
     "exception": false,
     "start_time": "2022-06-06T19:03:22.256322",
     "status": "completed"
    },
    "tags": []
   },
   "outputs": [],
   "source": [
    "from sklearn.model_selection import cross_val_score"
   ]
  },
  {
   "cell_type": "code",
   "execution_count": 15,
   "id": "a5b283a3",
   "metadata": {
    "execution": {
     "iopub.execute_input": "2022-06-06T19:03:22.313610Z",
     "iopub.status.busy": "2022-06-06T19:03:22.313285Z",
     "iopub.status.idle": "2022-06-06T19:03:22.318457Z",
     "shell.execute_reply": "2022-06-06T19:03:22.317368Z"
    },
    "papermill": {
     "duration": 0.018699,
     "end_time": "2022-06-06T19:03:22.320514",
     "exception": false,
     "start_time": "2022-06-06T19:03:22.301815",
     "status": "completed"
    },
    "tags": []
   },
   "outputs": [],
   "source": [
    "def model_acc(model):\n",
    "    acc = cross_val_score(model, x_test,y_test.values.ravel(),cv=10).mean()\n",
    "    print(str(model)+\"--->\"+str(acc))"
   ]
  },
  {
   "cell_type": "code",
   "execution_count": 16,
   "id": "b96517d2",
   "metadata": {
    "execution": {
     "iopub.execute_input": "2022-06-06T19:03:22.344623Z",
     "iopub.status.busy": "2022-06-06T19:03:22.344275Z",
     "iopub.status.idle": "2022-06-06T19:04:25.503172Z",
     "shell.execute_reply": "2022-06-06T19:04:25.501021Z"
    },
    "papermill": {
     "duration": 63.173174,
     "end_time": "2022-06-06T19:04:25.505495",
     "exception": false,
     "start_time": "2022-06-06T19:03:22.332321",
     "status": "completed"
    },
    "tags": []
   },
   "outputs": [
    {
     "name": "stdout",
     "output_type": "stream",
     "text": [
      "RandomForestRegressor()--->0.9905766149749844\n",
      "GammaRegressor()--->0.6649229460996653\n",
      "LinearRegression()--->0.7341857859487402\n",
      "GradientBoostingRegressor()--->0.9182250987052585\n"
     ]
    }
   ],
   "source": [
    "model_acc(rf)\n",
    "model_acc(gm)\n",
    "model_acc(ln)\n",
    "model_acc(gb)"
   ]
  },
  {
   "cell_type": "code",
   "execution_count": 17,
   "id": "cb8804fc",
   "metadata": {
    "execution": {
     "iopub.execute_input": "2022-06-06T19:04:25.528347Z",
     "iopub.status.busy": "2022-06-06T19:04:25.528019Z",
     "iopub.status.idle": "2022-06-06T19:04:25.610684Z",
     "shell.execute_reply": "2022-06-06T19:04:25.609707Z"
    },
    "papermill": {
     "duration": 0.096474,
     "end_time": "2022-06-06T19:04:25.613137",
     "exception": false,
     "start_time": "2022-06-06T19:04:25.516663",
     "status": "completed"
    },
    "tags": []
   },
   "outputs": [],
   "source": [
    "import pickle\n",
    "with open('random_foret_model.pickle',\"wb\") as file:\n",
    "    pickle.dump(rf,file)"
   ]
  },
  {
   "cell_type": "markdown",
   "id": "a2e33501",
   "metadata": {
    "papermill": {
     "duration": 0.009809,
     "end_time": "2022-06-06T19:04:25.633500",
     "exception": false,
     "start_time": "2022-06-06T19:04:25.623691",
     "status": "completed"
    },
    "tags": []
   },
   "source": [
    "### Bset Model is RandomForestRegressor()--->0.9905022325142451"
   ]
  },
  {
   "cell_type": "markdown",
   "id": "acc74401",
   "metadata": {
    "papermill": {
     "duration": 0.009741,
     "end_time": "2022-06-06T19:04:25.653152",
     "exception": false,
     "start_time": "2022-06-06T19:04:25.643411",
     "status": "completed"
    },
    "tags": []
   },
   "source": [
    "# Hyperparameter Optimization"
   ]
  },
  {
   "cell_type": "markdown",
   "id": "eec19874",
   "metadata": {
    "papermill": {
     "duration": 0.010376,
     "end_time": "2022-06-06T19:04:25.673642",
     "exception": false,
     "start_time": "2022-06-06T19:04:25.663266",
     "status": "completed"
    },
    "tags": []
   },
   "source": [
    "## RandomizedSearchCV"
   ]
  },
  {
   "cell_type": "code",
   "execution_count": 18,
   "id": "1be87d50",
   "metadata": {
    "execution": {
     "iopub.execute_input": "2022-06-06T19:04:25.695808Z",
     "iopub.status.busy": "2022-06-06T19:04:25.695482Z",
     "iopub.status.idle": "2022-06-06T19:04:25.701129Z",
     "shell.execute_reply": "2022-06-06T19:04:25.700102Z"
    },
    "papermill": {
     "duration": 0.019267,
     "end_time": "2022-06-06T19:04:25.703332",
     "exception": false,
     "start_time": "2022-06-06T19:04:25.684065",
     "status": "completed"
    },
    "tags": []
   },
   "outputs": [],
   "source": [
    "from sklearn.model_selection import RandomizedSearchCV\n",
    "\n",
    "param_list =  {\n",
    "   'n_estimators': [100, 200, 500],\n",
    "   'max_features': ['auto', 'sqrt', 'log2'],\n",
    "   'max_depth' : [4,5,6,7,8]\n",
    "}"
   ]
  },
  {
   "cell_type": "code",
   "execution_count": 19,
   "id": "dc661a3a",
   "metadata": {
    "execution": {
     "iopub.execute_input": "2022-06-06T19:04:25.725936Z",
     "iopub.status.busy": "2022-06-06T19:04:25.725621Z",
     "iopub.status.idle": "2022-06-06T19:07:01.038495Z",
     "shell.execute_reply": "2022-06-06T19:07:01.037469Z"
    },
    "papermill": {
     "duration": 155.338344,
     "end_time": "2022-06-06T19:07:01.051821",
     "exception": false,
     "start_time": "2022-06-06T19:04:25.713477",
     "status": "completed"
    },
    "tags": []
   },
   "outputs": [
    {
     "data": {
      "text/plain": [
       "RandomizedSearchCV(estimator=RandomForestRegressor(), n_iter=4,\n",
       "                   param_distributions={'max_depth': [4, 5, 6, 7, 8],\n",
       "                                        'max_features': ['auto', 'sqrt',\n",
       "                                                         'log2'],\n",
       "                                        'n_estimators': [100, 200, 500]})"
      ]
     },
     "execution_count": 19,
     "metadata": {},
     "output_type": "execute_result"
    }
   ],
   "source": [
    "randam_search= RandomizedSearchCV(estimator=rf, param_distributions=param_list, n_iter=4)\n",
    "randam_search.fit(x_train,y_train.values.ravel())"
   ]
  },
  {
   "cell_type": "markdown",
   "id": "377dbc6b",
   "metadata": {
    "papermill": {
     "duration": 0.010489,
     "end_time": "2022-06-06T19:07:01.072911",
     "exception": false,
     "start_time": "2022-06-06T19:07:01.062422",
     "status": "completed"
    },
    "tags": []
   },
   "source": [
    "#### Best Param and score"
   ]
  },
  {
   "cell_type": "code",
   "execution_count": 20,
   "id": "24411450",
   "metadata": {
    "execution": {
     "iopub.execute_input": "2022-06-06T19:07:01.096726Z",
     "iopub.status.busy": "2022-06-06T19:07:01.096339Z",
     "iopub.status.idle": "2022-06-06T19:07:01.103124Z",
     "shell.execute_reply": "2022-06-06T19:07:01.102082Z"
    },
    "papermill": {
     "duration": 0.021229,
     "end_time": "2022-06-06T19:07:01.105543",
     "exception": false,
     "start_time": "2022-06-06T19:07:01.084314",
     "status": "completed"
    },
    "tags": []
   },
   "outputs": [
    {
     "data": {
      "text/plain": [
       "{'n_estimators': 500, 'max_features': 'log2', 'max_depth': 8}"
      ]
     },
     "execution_count": 20,
     "metadata": {},
     "output_type": "execute_result"
    }
   ],
   "source": [
    "randam_search.best_params_"
   ]
  },
  {
   "cell_type": "code",
   "execution_count": 21,
   "id": "83fcc45f",
   "metadata": {
    "execution": {
     "iopub.execute_input": "2022-06-06T19:07:01.129813Z",
     "iopub.status.busy": "2022-06-06T19:07:01.129208Z",
     "iopub.status.idle": "2022-06-06T19:07:02.120135Z",
     "shell.execute_reply": "2022-06-06T19:07:02.118873Z"
    },
    "papermill": {
     "duration": 1.00627,
     "end_time": "2022-06-06T19:07:02.123182",
     "exception": false,
     "start_time": "2022-06-06T19:07:01.116912",
     "status": "completed"
    },
    "tags": []
   },
   "outputs": [
    {
     "data": {
      "text/plain": [
       "0.9040132420403945"
      ]
     },
     "execution_count": 21,
     "metadata": {},
     "output_type": "execute_result"
    }
   ],
   "source": [
    "randam_search.score(x_test,y_test.values.ravel())"
   ]
  },
  {
   "cell_type": "markdown",
   "id": "7a7e7bf0",
   "metadata": {
    "papermill": {
     "duration": 0.01143,
     "end_time": "2022-06-06T19:07:02.146109",
     "exception": false,
     "start_time": "2022-06-06T19:07:02.134679",
     "status": "completed"
    },
    "tags": []
   },
   "source": [
    "## GridsearchCV"
   ]
  },
  {
   "cell_type": "code",
   "execution_count": 22,
   "id": "118363ca",
   "metadata": {
    "execution": {
     "iopub.execute_input": "2022-06-06T19:07:02.170187Z",
     "iopub.status.busy": "2022-06-06T19:07:02.169725Z",
     "iopub.status.idle": "2022-06-06T19:07:02.175552Z",
     "shell.execute_reply": "2022-06-06T19:07:02.174500Z"
    },
    "papermill": {
     "duration": 0.020351,
     "end_time": "2022-06-06T19:07:02.177733",
     "exception": false,
     "start_time": "2022-06-06T19:07:02.157382",
     "status": "completed"
    },
    "tags": []
   },
   "outputs": [],
   "source": [
    "from sklearn.model_selection import GridSearchCV\n",
    "\n",
    "param_list =  {\n",
    "   'n_estimators': [200, 500],\n",
    "   'max_features': ['auto', 'sqrt', 'log2'],\n",
    "   'max_depth' : [4,8]\n",
    "}"
   ]
  },
  {
   "cell_type": "code",
   "execution_count": 23,
   "id": "b1391555",
   "metadata": {
    "execution": {
     "iopub.execute_input": "2022-06-06T19:07:02.202374Z",
     "iopub.status.busy": "2022-06-06T19:07:02.201128Z",
     "iopub.status.idle": "2022-06-06T19:16:28.025468Z",
     "shell.execute_reply": "2022-06-06T19:16:28.024431Z"
    },
    "papermill": {
     "duration": 565.850018,
     "end_time": "2022-06-06T19:16:28.038936",
     "exception": false,
     "start_time": "2022-06-06T19:07:02.188918",
     "status": "completed"
    },
    "tags": []
   },
   "outputs": [
    {
     "data": {
      "text/plain": [
       "GridSearchCV(estimator=RandomForestRegressor(),\n",
       "             param_grid={'max_depth': [4, 8],\n",
       "                         'max_features': ['auto', 'sqrt', 'log2'],\n",
       "                         'n_estimators': [200, 500]})"
      ]
     },
     "execution_count": 23,
     "metadata": {},
     "output_type": "execute_result"
    }
   ],
   "source": [
    "grid_search= GridSearchCV(estimator=rf, param_grid=param_list )\n",
    "grid_search.fit(x_train,y_train.values.ravel())"
   ]
  },
  {
   "cell_type": "code",
   "execution_count": 24,
   "id": "3127306e",
   "metadata": {
    "execution": {
     "iopub.execute_input": "2022-06-06T19:16:28.069585Z",
     "iopub.status.busy": "2022-06-06T19:16:28.067140Z",
     "iopub.status.idle": "2022-06-06T19:16:28.075245Z",
     "shell.execute_reply": "2022-06-06T19:16:28.074234Z"
    },
    "papermill": {
     "duration": 0.027675,
     "end_time": "2022-06-06T19:16:28.077677",
     "exception": false,
     "start_time": "2022-06-06T19:16:28.050002",
     "status": "completed"
    },
    "tags": []
   },
   "outputs": [
    {
     "data": {
      "text/plain": [
       "{'n_estimators': 500, 'max_features': 'log2', 'max_depth': 8}"
      ]
     },
     "execution_count": 24,
     "metadata": {},
     "output_type": "execute_result"
    }
   ],
   "source": [
    "randam_search.best_params_"
   ]
  },
  {
   "cell_type": "code",
   "execution_count": 25,
   "id": "4b4b8a23",
   "metadata": {
    "execution": {
     "iopub.execute_input": "2022-06-06T19:16:28.101229Z",
     "iopub.status.busy": "2022-06-06T19:16:28.100910Z",
     "iopub.status.idle": "2022-06-06T19:16:28.493968Z",
     "shell.execute_reply": "2022-06-06T19:16:28.492384Z"
    },
    "papermill": {
     "duration": 0.409037,
     "end_time": "2022-06-06T19:16:28.497976",
     "exception": false,
     "start_time": "2022-06-06T19:16:28.088939",
     "status": "completed"
    },
    "tags": []
   },
   "outputs": [
    {
     "data": {
      "text/plain": [
       "0.9122654159404195"
      ]
     },
     "execution_count": 25,
     "metadata": {},
     "output_type": "execute_result"
    }
   ],
   "source": [
    "grid_search.score(x_test,y_test.values.ravel())"
   ]
  },
  {
   "cell_type": "markdown",
   "id": "464e2bce",
   "metadata": {
    "papermill": {
     "duration": 0.022829,
     "end_time": "2022-06-06T19:16:28.543472",
     "exception": false,
     "start_time": "2022-06-06T19:16:28.520643",
     "status": "completed"
    },
    "tags": []
   },
   "source": [
    "# Save The Model"
   ]
  },
  {
   "cell_type": "code",
   "execution_count": 26,
   "id": "d09ac7e3",
   "metadata": {
    "execution": {
     "iopub.execute_input": "2022-06-06T19:16:28.589970Z",
     "iopub.status.busy": "2022-06-06T19:16:28.589466Z",
     "iopub.status.idle": "2022-06-06T19:16:28.730997Z",
     "shell.execute_reply": "2022-06-06T19:16:28.728556Z"
    },
    "papermill": {
     "duration": 0.193833,
     "end_time": "2022-06-06T19:16:28.761694",
     "exception": false,
     "start_time": "2022-06-06T19:16:28.567861",
     "status": "completed"
    },
    "tags": []
   },
   "outputs": [],
   "source": [
    "import pickle\n",
    "with open('random_foret_model.pickle',\"wb\") as file:\n",
    "    pickle.dump(rf,file)"
   ]
  },
  {
   "cell_type": "markdown",
   "id": "b71d04bf",
   "metadata": {
    "papermill": {
     "duration": 0.01774,
     "end_time": "2022-06-06T19:16:28.799862",
     "exception": false,
     "start_time": "2022-06-06T19:16:28.782122",
     "status": "completed"
    },
    "tags": []
   },
   "source": [
    "# END - Max accuracy = RandomForestRegressor()--->0.9905022325142451"
   ]
  }
 ],
 "metadata": {
  "kernelspec": {
   "display_name": "Python 3",
   "language": "python",
   "name": "python3"
  },
  "language_info": {
   "codemirror_mode": {
    "name": "ipython",
    "version": 3
   },
   "file_extension": ".py",
   "mimetype": "text/x-python",
   "name": "python",
   "nbconvert_exporter": "python",
   "pygments_lexer": "ipython3",
   "version": "3.7.12"
  },
  "papermill": {
   "default_parameters": {},
   "duration": 813.781866,
   "end_time": "2022-06-06T19:16:29.439978",
   "environment_variables": {},
   "exception": null,
   "input_path": "__notebook__.ipynb",
   "output_path": "__notebook__.ipynb",
   "parameters": {},
   "start_time": "2022-06-06T19:02:55.658112",
   "version": "2.3.4"
  }
 },
 "nbformat": 4,
 "nbformat_minor": 5
}
